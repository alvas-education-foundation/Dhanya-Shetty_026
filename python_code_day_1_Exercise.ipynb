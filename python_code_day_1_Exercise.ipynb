{
  "nbformat": 4,
  "nbformat_minor": 0,
  "metadata": {
    "colab": {
      "name": "python code day 1-Exercise",
      "provenance": [],
      "authorship_tag": "ABX9TyOubepIa3gwo9lR/FWmvPb6",
      "include_colab_link": true
    },
    "kernelspec": {
      "name": "python3",
      "display_name": "Python 3"
    }
  },
  "cells": [
    {
      "cell_type": "markdown",
      "metadata": {
        "id": "view-in-github",
        "colab_type": "text"
      },
      "source": [
        "<a href=\"https://colab.research.google.com/github/alvas-education-foundation/Dhanya-Shetty_026/blob/master/python_code_day_1_Exercise.ipynb\" target=\"_parent\"><img src=\"https://colab.research.google.com/assets/colab-badge.svg\" alt=\"Open In Colab\"/></a>"
      ]
    },
    {
      "cell_type": "code",
      "metadata": {
        "id": "2eape1_wWujA",
        "colab_type": "code",
        "colab": {
          "base_uri": "https://localhost:8080/",
          "height": 958
        },
        "outputId": "584fe721-8837-4cfc-d543-35ba4dd40484"
      },
      "source": [
        "n=int(input(\"Enter number:\"));\n",
        "for i in range(n+1):\n",
        "    c=i\n",
        "    for j in range(1,i+1):\n",
        "        print(c, end=\" \")\n",
        "        c=c+1\n",
        "    print('')"
      ],
      "execution_count": 1,
      "outputs": [
        {
          "output_type": "stream",
          "text": [
            "Enter number:54\n",
            "\n",
            "1 \n",
            "2 3 \n",
            "3 4 5 \n",
            "4 5 6 7 \n",
            "5 6 7 8 9 \n",
            "6 7 8 9 10 11 \n",
            "7 8 9 10 11 12 13 \n",
            "8 9 10 11 12 13 14 15 \n",
            "9 10 11 12 13 14 15 16 17 \n",
            "10 11 12 13 14 15 16 17 18 19 \n",
            "11 12 13 14 15 16 17 18 19 20 21 \n",
            "12 13 14 15 16 17 18 19 20 21 22 23 \n",
            "13 14 15 16 17 18 19 20 21 22 23 24 25 \n",
            "14 15 16 17 18 19 20 21 22 23 24 25 26 27 \n",
            "15 16 17 18 19 20 21 22 23 24 25 26 27 28 29 \n",
            "16 17 18 19 20 21 22 23 24 25 26 27 28 29 30 31 \n",
            "17 18 19 20 21 22 23 24 25 26 27 28 29 30 31 32 33 \n",
            "18 19 20 21 22 23 24 25 26 27 28 29 30 31 32 33 34 35 \n",
            "19 20 21 22 23 24 25 26 27 28 29 30 31 32 33 34 35 36 37 \n",
            "20 21 22 23 24 25 26 27 28 29 30 31 32 33 34 35 36 37 38 39 \n",
            "21 22 23 24 25 26 27 28 29 30 31 32 33 34 35 36 37 38 39 40 41 \n",
            "22 23 24 25 26 27 28 29 30 31 32 33 34 35 36 37 38 39 40 41 42 43 \n",
            "23 24 25 26 27 28 29 30 31 32 33 34 35 36 37 38 39 40 41 42 43 44 45 \n",
            "24 25 26 27 28 29 30 31 32 33 34 35 36 37 38 39 40 41 42 43 44 45 46 47 \n",
            "25 26 27 28 29 30 31 32 33 34 35 36 37 38 39 40 41 42 43 44 45 46 47 48 49 \n",
            "26 27 28 29 30 31 32 33 34 35 36 37 38 39 40 41 42 43 44 45 46 47 48 49 50 51 \n",
            "27 28 29 30 31 32 33 34 35 36 37 38 39 40 41 42 43 44 45 46 47 48 49 50 51 52 53 \n",
            "28 29 30 31 32 33 34 35 36 37 38 39 40 41 42 43 44 45 46 47 48 49 50 51 52 53 54 55 \n",
            "29 30 31 32 33 34 35 36 37 38 39 40 41 42 43 44 45 46 47 48 49 50 51 52 53 54 55 56 57 \n",
            "30 31 32 33 34 35 36 37 38 39 40 41 42 43 44 45 46 47 48 49 50 51 52 53 54 55 56 57 58 59 \n",
            "31 32 33 34 35 36 37 38 39 40 41 42 43 44 45 46 47 48 49 50 51 52 53 54 55 56 57 58 59 60 61 \n",
            "32 33 34 35 36 37 38 39 40 41 42 43 44 45 46 47 48 49 50 51 52 53 54 55 56 57 58 59 60 61 62 63 \n",
            "33 34 35 36 37 38 39 40 41 42 43 44 45 46 47 48 49 50 51 52 53 54 55 56 57 58 59 60 61 62 63 64 65 \n",
            "34 35 36 37 38 39 40 41 42 43 44 45 46 47 48 49 50 51 52 53 54 55 56 57 58 59 60 61 62 63 64 65 66 67 \n",
            "35 36 37 38 39 40 41 42 43 44 45 46 47 48 49 50 51 52 53 54 55 56 57 58 59 60 61 62 63 64 65 66 67 68 69 \n",
            "36 37 38 39 40 41 42 43 44 45 46 47 48 49 50 51 52 53 54 55 56 57 58 59 60 61 62 63 64 65 66 67 68 69 70 71 \n",
            "37 38 39 40 41 42 43 44 45 46 47 48 49 50 51 52 53 54 55 56 57 58 59 60 61 62 63 64 65 66 67 68 69 70 71 72 73 \n",
            "38 39 40 41 42 43 44 45 46 47 48 49 50 51 52 53 54 55 56 57 58 59 60 61 62 63 64 65 66 67 68 69 70 71 72 73 74 75 \n",
            "39 40 41 42 43 44 45 46 47 48 49 50 51 52 53 54 55 56 57 58 59 60 61 62 63 64 65 66 67 68 69 70 71 72 73 74 75 76 77 \n",
            "40 41 42 43 44 45 46 47 48 49 50 51 52 53 54 55 56 57 58 59 60 61 62 63 64 65 66 67 68 69 70 71 72 73 74 75 76 77 78 79 \n",
            "41 42 43 44 45 46 47 48 49 50 51 52 53 54 55 56 57 58 59 60 61 62 63 64 65 66 67 68 69 70 71 72 73 74 75 76 77 78 79 80 81 \n",
            "42 43 44 45 46 47 48 49 50 51 52 53 54 55 56 57 58 59 60 61 62 63 64 65 66 67 68 69 70 71 72 73 74 75 76 77 78 79 80 81 82 83 \n",
            "43 44 45 46 47 48 49 50 51 52 53 54 55 56 57 58 59 60 61 62 63 64 65 66 67 68 69 70 71 72 73 74 75 76 77 78 79 80 81 82 83 84 85 \n",
            "44 45 46 47 48 49 50 51 52 53 54 55 56 57 58 59 60 61 62 63 64 65 66 67 68 69 70 71 72 73 74 75 76 77 78 79 80 81 82 83 84 85 86 87 \n",
            "45 46 47 48 49 50 51 52 53 54 55 56 57 58 59 60 61 62 63 64 65 66 67 68 69 70 71 72 73 74 75 76 77 78 79 80 81 82 83 84 85 86 87 88 89 \n",
            "46 47 48 49 50 51 52 53 54 55 56 57 58 59 60 61 62 63 64 65 66 67 68 69 70 71 72 73 74 75 76 77 78 79 80 81 82 83 84 85 86 87 88 89 90 91 \n",
            "47 48 49 50 51 52 53 54 55 56 57 58 59 60 61 62 63 64 65 66 67 68 69 70 71 72 73 74 75 76 77 78 79 80 81 82 83 84 85 86 87 88 89 90 91 92 93 \n",
            "48 49 50 51 52 53 54 55 56 57 58 59 60 61 62 63 64 65 66 67 68 69 70 71 72 73 74 75 76 77 78 79 80 81 82 83 84 85 86 87 88 89 90 91 92 93 94 95 \n",
            "49 50 51 52 53 54 55 56 57 58 59 60 61 62 63 64 65 66 67 68 69 70 71 72 73 74 75 76 77 78 79 80 81 82 83 84 85 86 87 88 89 90 91 92 93 94 95 96 97 \n",
            "50 51 52 53 54 55 56 57 58 59 60 61 62 63 64 65 66 67 68 69 70 71 72 73 74 75 76 77 78 79 80 81 82 83 84 85 86 87 88 89 90 91 92 93 94 95 96 97 98 99 \n",
            "51 52 53 54 55 56 57 58 59 60 61 62 63 64 65 66 67 68 69 70 71 72 73 74 75 76 77 78 79 80 81 82 83 84 85 86 87 88 89 90 91 92 93 94 95 96 97 98 99 100 101 \n",
            "52 53 54 55 56 57 58 59 60 61 62 63 64 65 66 67 68 69 70 71 72 73 74 75 76 77 78 79 80 81 82 83 84 85 86 87 88 89 90 91 92 93 94 95 96 97 98 99 100 101 102 103 \n",
            "53 54 55 56 57 58 59 60 61 62 63 64 65 66 67 68 69 70 71 72 73 74 75 76 77 78 79 80 81 82 83 84 85 86 87 88 89 90 91 92 93 94 95 96 97 98 99 100 101 102 103 104 105 \n",
            "54 55 56 57 58 59 60 61 62 63 64 65 66 67 68 69 70 71 72 73 74 75 76 77 78 79 80 81 82 83 84 85 86 87 88 89 90 91 92 93 94 95 96 97 98 99 100 101 102 103 104 105 106 107 \n"
          ],
          "name": "stdout"
        }
      ]
    },
    {
      "cell_type": "code",
      "metadata": {
        "id": "URWRjelLXCzz",
        "colab_type": "code",
        "colab": {
          "base_uri": "https://localhost:8080/",
          "height": 84
        },
        "outputId": "128b8742-fc29-4000-fdb8-fb34ebeb2eb9"
      },
      "source": [
        "rows = 4\n",
        "for i in range(0, rows):\n",
        "    for j in range(0, i + 1):\n",
        "        print(\"*\", end=' ')\n",
        "\n",
        "    print(\"\\r\")"
      ],
      "execution_count": 2,
      "outputs": [
        {
          "output_type": "stream",
          "text": [
            "* \r\n",
            "* * \r\n",
            "* * * \r\n",
            "* * * * \r\n"
          ],
          "name": "stdout"
        }
      ]
    },
    {
      "cell_type": "code",
      "metadata": {
        "id": "FavdwIOPXKxA",
        "colab_type": "code",
        "colab": {
          "base_uri": "https://localhost:8080/",
          "height": 151
        },
        "outputId": "8ebd6c8e-1c04-4a3e-e7af-fe8dafcfe56b"
      },
      "source": [
        "n=int(input(\"Enter number:\"));\n",
        "for i in range(n+1):\n",
        "    c=n-i+1\n",
        "    for j in range(n,n-i,-1):\n",
        "        print(c, end=\" \")\n",
        "        c=c+1\n",
        "    print('')"
      ],
      "execution_count": 3,
      "outputs": [
        {
          "output_type": "stream",
          "text": [
            "Enter number:6\n",
            "\n",
            "6 \n",
            "5 6 \n",
            "4 5 6 \n",
            "3 4 5 6 \n",
            "2 3 4 5 6 \n",
            "1 2 3 4 5 6 \n"
          ],
          "name": "stdout"
        }
      ]
    },
    {
      "cell_type": "code",
      "metadata": {
        "id": "UTDYqFUoXUU2",
        "colab_type": "code",
        "colab": {
          "base_uri": "https://localhost:8080/",
          "height": 118
        },
        "outputId": "d15bb68a-812e-42b6-8948-58c880afe4a5"
      },
      "source": [
        "rows = 5\n",
        "for i in range(0, rows + 1):\n",
        "    for j in range(rows - i, 0, -1):\n",
        "        print(j, end=' ')\n",
        "    print()"
      ],
      "execution_count": 4,
      "outputs": [
        {
          "output_type": "stream",
          "text": [
            "5 4 3 2 1 \n",
            "4 3 2 1 \n",
            "3 2 1 \n",
            "2 1 \n",
            "1 \n",
            "\n"
          ],
          "name": "stdout"
        }
      ]
    },
    {
      "cell_type": "code",
      "metadata": {
        "id": "wj0yCrQHXXBe",
        "colab_type": "code",
        "colab": {
          "base_uri": "https://localhost:8080/",
          "height": 286
        },
        "outputId": "23fe83b4-7dc5-4031-f7e0-cfec6da40653"
      },
      "source": [
        "n=int(input(\"Enter number:\"));\n",
        "for i in range(n):\n",
        "    for j in range(i+1,n+1,1):\n",
        "        print(j, end=\" \")\n",
        "    print('')\n",
        "for i in range(2,n+1):\n",
        "    c=n-i+1\n",
        "    for j in range(n,n-i,-1):\n",
        "        print(c, end=\" \")\n",
        "        c=c+1\n",
        "    print('')"
      ],
      "execution_count": 5,
      "outputs": [
        {
          "output_type": "stream",
          "text": [
            "Enter number:8\n",
            "1 2 3 4 5 6 7 8 \n",
            "2 3 4 5 6 7 8 \n",
            "3 4 5 6 7 8 \n",
            "4 5 6 7 8 \n",
            "5 6 7 8 \n",
            "6 7 8 \n",
            "7 8 \n",
            "8 \n",
            "7 8 \n",
            "6 7 8 \n",
            "5 6 7 8 \n",
            "4 5 6 7 8 \n",
            "3 4 5 6 7 8 \n",
            "2 3 4 5 6 7 8 \n",
            "1 2 3 4 5 6 7 8 \n"
          ],
          "name": "stdout"
        }
      ]
    },
    {
      "cell_type": "code",
      "metadata": {
        "id": "xGGU2mE1XeKU",
        "colab_type": "code",
        "colab": {
          "base_uri": "https://localhost:8080/",
          "height": 50
        },
        "outputId": "586e8eab-7703-4c6a-b217-c7009832e4d2"
      },
      "source": [
        "str = input(\"Enter a string: \")\n",
        "counter = 0\n",
        "for s in str:\n",
        "      counter = counter+1\n",
        "print(\"Length of the input string is:\", counter)"
      ],
      "execution_count": 6,
      "outputs": [
        {
          "output_type": "stream",
          "text": [
            "Enter a string: 4\n",
            "Length of the input string is: 1\n"
          ],
          "name": "stdout"
        }
      ]
    },
    {
      "cell_type": "code",
      "metadata": {
        "id": "Qml1DqSPXlUq",
        "colab_type": "code",
        "colab": {
          "base_uri": "https://localhost:8080/",
          "height": 101
        },
        "outputId": "2f7f8c7b-c7dd-4730-96f6-be4804668ea4"
      },
      "source": [
        "string=input(\"Enter string:\")\n",
        "char=0\n",
        "word=1\n",
        "for i in string:\n",
        "      char=char+1\n",
        "      if(i==' '):\n",
        "            word=word+1\n",
        "print(\"Number of words in the string:\")\n",
        "print(word)\n",
        "print(\"Number of characters in the string:\")\n",
        "print(char)"
      ],
      "execution_count": 7,
      "outputs": [
        {
          "output_type": "stream",
          "text": [
            "Enter string:3\n",
            "Number of words in the string:\n",
            "1\n",
            "Number of characters in the string:\n",
            "1\n"
          ],
          "name": "stdout"
        }
      ]
    },
    {
      "cell_type": "code",
      "metadata": {
        "id": "dqgtBwTBXsvH",
        "colab_type": "code",
        "colab": {
          "base_uri": "https://localhost:8080/",
          "height": 34
        },
        "outputId": "4944dd63-043a-4b2e-cc24-560798e11ebd"
      },
      "source": [
        "string = \"My College name is Alva's Institute of Engineering and technology\"\n",
        "substring = \"is\"\n",
        "\n",
        "count = string.count(substring)\n",
        "\n",
        "# print count\n",
        "print(\"The count is:\", count)"
      ],
      "execution_count": 8,
      "outputs": [
        {
          "output_type": "stream",
          "text": [
            "The count is: 1\n"
          ],
          "name": "stdout"
        }
      ]
    }
  ]
}